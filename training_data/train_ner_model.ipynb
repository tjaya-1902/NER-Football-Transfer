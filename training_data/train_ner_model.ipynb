{
 "cells": [
  {
   "cell_type": "code",
   "execution_count": null,
   "id": "422924e8",
   "metadata": {},
   "outputs": [],
   "source": [
    "pip install flask spacy"
   ]
  },
  {
   "cell_type": "code",
   "execution_count": 3,
   "id": "64e284ec",
   "metadata": {},
   "outputs": [
    {
     "name": "stderr",
     "output_type": "stream",
     "text": [
      "\n",
      "A module that was compiled using NumPy 1.x cannot be run in\n",
      "NumPy 2.3.0 as it may crash. To support both 1.x and 2.x\n",
      "versions of NumPy, modules must be compiled with NumPy 2.0.\n",
      "Some module may need to rebuild instead e.g. with 'pybind11>=2.12'.\n",
      "\n",
      "If you are a user of the module, the easiest solution will be to\n",
      "downgrade to 'numpy<2' or try to upgrade the affected module.\n",
      "We expect that some modules will need time to support NumPy 2.\n",
      "\n",
      "Traceback (most recent call last):  File \"<frozen runpy>\", line 198, in _run_module_as_main\n",
      "  File \"<frozen runpy>\", line 88, in _run_code\n",
      "  File \"c:\\Users\\reza\\AppData\\Local\\Programs\\Python\\Python311\\Lib\\site-packages\\ipykernel_launcher.py\", line 17, in <module>\n",
      "    app.launch_new_instance()\n",
      "  File \"c:\\Users\\reza\\AppData\\Local\\Programs\\Python\\Python311\\Lib\\site-packages\\traitlets\\config\\application.py\", line 1043, in launch_instance\n",
      "    app.start()\n",
      "  File \"c:\\Users\\reza\\AppData\\Local\\Programs\\Python\\Python311\\Lib\\site-packages\\ipykernel\\kernelapp.py\", line 725, in start\n",
      "    self.io_loop.start()\n",
      "  File \"c:\\Users\\reza\\AppData\\Local\\Programs\\Python\\Python311\\Lib\\site-packages\\tornado\\platform\\asyncio.py\", line 195, in start\n",
      "    self.asyncio_loop.run_forever()\n",
      "  File \"c:\\Users\\reza\\AppData\\Local\\Programs\\Python\\Python311\\Lib\\asyncio\\base_events.py\", line 607, in run_forever\n",
      "    self._run_once()\n",
      "  File \"c:\\Users\\reza\\AppData\\Local\\Programs\\Python\\Python311\\Lib\\asyncio\\base_events.py\", line 1922, in _run_once\n",
      "    handle._run()\n",
      "  File \"c:\\Users\\reza\\AppData\\Local\\Programs\\Python\\Python311\\Lib\\asyncio\\events.py\", line 80, in _run\n",
      "    self._context.run(self._callback, *self._args)\n",
      "  File \"c:\\Users\\reza\\AppData\\Local\\Programs\\Python\\Python311\\Lib\\site-packages\\ipykernel\\kernelbase.py\", line 513, in dispatch_queue\n",
      "    await self.process_one()\n",
      "  File \"c:\\Users\\reza\\AppData\\Local\\Programs\\Python\\Python311\\Lib\\site-packages\\ipykernel\\kernelbase.py\", line 502, in process_one\n",
      "    await dispatch(*args)\n",
      "  File \"c:\\Users\\reza\\AppData\\Local\\Programs\\Python\\Python311\\Lib\\site-packages\\ipykernel\\kernelbase.py\", line 409, in dispatch_shell\n",
      "    await result\n",
      "  File \"c:\\Users\\reza\\AppData\\Local\\Programs\\Python\\Python311\\Lib\\site-packages\\ipykernel\\kernelbase.py\", line 729, in execute_request\n",
      "    reply_content = await reply_content\n",
      "  File \"c:\\Users\\reza\\AppData\\Local\\Programs\\Python\\Python311\\Lib\\site-packages\\ipykernel\\ipkernel.py\", line 422, in do_execute\n",
      "    res = shell.run_cell(\n",
      "  File \"c:\\Users\\reza\\AppData\\Local\\Programs\\Python\\Python311\\Lib\\site-packages\\ipykernel\\zmqshell.py\", line 540, in run_cell\n",
      "    return super().run_cell(*args, **kwargs)\n",
      "  File \"c:\\Users\\reza\\AppData\\Local\\Programs\\Python\\Python311\\Lib\\site-packages\\IPython\\core\\interactiveshell.py\", line 3006, in run_cell\n",
      "    result = self._run_cell(\n",
      "  File \"c:\\Users\\reza\\AppData\\Local\\Programs\\Python\\Python311\\Lib\\site-packages\\IPython\\core\\interactiveshell.py\", line 3061, in _run_cell\n",
      "    result = runner(coro)\n",
      "  File \"c:\\Users\\reza\\AppData\\Local\\Programs\\Python\\Python311\\Lib\\site-packages\\IPython\\core\\async_helpers.py\", line 129, in _pseudo_sync_runner\n",
      "    coro.send(None)\n",
      "  File \"c:\\Users\\reza\\AppData\\Local\\Programs\\Python\\Python311\\Lib\\site-packages\\IPython\\core\\interactiveshell.py\", line 3266, in run_cell_async\n",
      "    has_raised = await self.run_ast_nodes(code_ast.body, cell_name,\n",
      "  File \"c:\\Users\\reza\\AppData\\Local\\Programs\\Python\\Python311\\Lib\\site-packages\\IPython\\core\\interactiveshell.py\", line 3445, in run_ast_nodes\n",
      "    if await self.run_code(code, result, async_=asy):\n",
      "  File \"c:\\Users\\reza\\AppData\\Local\\Programs\\Python\\Python311\\Lib\\site-packages\\IPython\\core\\interactiveshell.py\", line 3505, in run_code\n",
      "    exec(code_obj, self.user_global_ns, self.user_ns)\n",
      "  File \"C:\\Users\\reza\\AppData\\Local\\Temp\\ipykernel_20024\\1592348841.py\", line 1, in <module>\n",
      "    import spacy\n",
      "  File \"c:\\Users\\reza\\AppData\\Local\\Programs\\Python\\Python311\\Lib\\site-packages\\spacy\\__init__.py\", line 6, in <module>\n",
      "    from .errors import setup_default_warnings\n",
      "  File \"c:\\Users\\reza\\AppData\\Local\\Programs\\Python\\Python311\\Lib\\site-packages\\spacy\\errors.py\", line 3, in <module>\n",
      "    from .compat import Literal\n",
      "  File \"c:\\Users\\reza\\AppData\\Local\\Programs\\Python\\Python311\\Lib\\site-packages\\spacy\\compat.py\", line 4, in <module>\n",
      "    from thinc.util import copy_array\n",
      "  File \"c:\\Users\\reza\\AppData\\Local\\Programs\\Python\\Python311\\Lib\\site-packages\\thinc\\__init__.py\", line 5, in <module>\n",
      "    from .config import registry\n",
      "  File \"c:\\Users\\reza\\AppData\\Local\\Programs\\Python\\Python311\\Lib\\site-packages\\thinc\\config.py\", line 5, in <module>\n",
      "    from .types import Decorator\n",
      "  File \"c:\\Users\\reza\\AppData\\Local\\Programs\\Python\\Python311\\Lib\\site-packages\\thinc\\types.py\", line 27, in <module>\n",
      "    from .compat import cupy, has_cupy\n",
      "  File \"c:\\Users\\reza\\AppData\\Local\\Programs\\Python\\Python311\\Lib\\site-packages\\thinc\\compat.py\", line 35, in <module>\n",
      "    import torch\n",
      "  File \"c:\\Users\\reza\\AppData\\Local\\Programs\\Python\\Python311\\Lib\\site-packages\\torch\\__init__.py\", line 1382, in <module>\n",
      "    from .functional import *  # noqa: F403\n",
      "  File \"c:\\Users\\reza\\AppData\\Local\\Programs\\Python\\Python311\\Lib\\site-packages\\torch\\functional.py\", line 7, in <module>\n",
      "    import torch.nn.functional as F\n",
      "  File \"c:\\Users\\reza\\AppData\\Local\\Programs\\Python\\Python311\\Lib\\site-packages\\torch\\nn\\__init__.py\", line 1, in <module>\n",
      "    from .modules import *  # noqa: F403\n",
      "  File \"c:\\Users\\reza\\AppData\\Local\\Programs\\Python\\Python311\\Lib\\site-packages\\torch\\nn\\modules\\__init__.py\", line 35, in <module>\n",
      "    from .transformer import TransformerEncoder, TransformerDecoder, \\\n",
      "  File \"c:\\Users\\reza\\AppData\\Local\\Programs\\Python\\Python311\\Lib\\site-packages\\torch\\nn\\modules\\transformer.py\", line 20, in <module>\n",
      "    device: torch.device = torch.device(torch._C._get_default_device()),  # torch.device('cpu'),\n",
      "c:\\Users\\reza\\AppData\\Local\\Programs\\Python\\Python311\\Lib\\site-packages\\torch\\nn\\modules\\transformer.py:20: UserWarning: Failed to initialize NumPy: _ARRAY_API not found (Triggered internally at ..\\torch\\csrc\\utils\\tensor_numpy.cpp:84.)\n",
      "  device: torch.device = torch.device(torch._C._get_default_device()),  # torch.device('cpu'),\n"
     ]
    }
   ],
   "source": [
    "import spacy\n",
    "from spacy.training import Example\n",
    "from spacy.util import minibatch\n",
    "import random\n",
    "import json"
   ]
  },
  {
   "cell_type": "code",
   "execution_count": null,
   "id": "789b73a6",
   "metadata": {},
   "outputs": [],
   "source": [
    "# Start from blank model\n",
    "nlp = spacy.blank(\"en\")\n",
    "\n",
    "# Add NER pipe\n",
    "ner = nlp.add_pipe(\"ner\")"
   ]
  },
  {
   "cell_type": "code",
   "execution_count": null,
   "id": "9add0a03",
   "metadata": {},
   "outputs": [
    {
     "name": "stdout",
     "output_type": "stream",
     "text": [
      "Loaded 550 total training examples.\n"
     ]
    }
   ],
   "source": [
    "# Load synthetic training data from JSON\n",
    "with open(\"Training_Data/train_data.json\", \"r\", encoding=\"utf-8\") as f:\n",
    "    synthetic_data = json.load(f)\n",
    "\n",
    "\n",
    "# Load and convert real-world data\n",
    "real_data = []\n",
    "with open(\"Training_Data/real_data.jsonl\", \"r\", encoding=\"utf-8\") as f:\n",
    "    for line in f:\n",
    "        entry = json.loads(line)\n",
    "        real_data.append({\n",
    "            \"text\": entry[\"text\"],\n",
    "            \"entities\": entry[\"label\"]\n",
    "        })\n",
    "\n",
    "# Merge datasets\n",
    "training_data = synthetic_data + real_data\n",
    "\n",
    "\n",
    "examples = []\n",
    "for item in training_data:\n",
    "    doc = nlp.make_doc(item[\"text\"])\n",
    "    example = Example.from_dict(doc, {\"entities\": item[\"entities\"]})\n",
    "    examples.append(example)\n",
    "\n",
    "  \n",
    "print(f\"Loaded {len(examples)} total training examples.\")"
   ]
  },
  {
   "cell_type": "code",
   "execution_count": 9,
   "id": "51177bb4",
   "metadata": {},
   "outputs": [
    {
     "name": "stdout",
     "output_type": "stream",
     "text": [
      "Epoch 1 | Losses: {'ner': np.float32(1608.0052)}\n",
      "Epoch 2 | Losses: {'ner': np.float32(108.6021)}\n",
      "Epoch 3 | Losses: {'ner': np.float32(71.24158)}\n",
      "Epoch 4 | Losses: {'ner': np.float32(40.642445)}\n",
      "Epoch 5 | Losses: {'ner': np.float32(37.726444)}\n",
      "Epoch 6 | Losses: {'ner': np.float32(17.487926)}\n",
      "Epoch 7 | Losses: {'ner': np.float32(8.985805)}\n",
      "Epoch 8 | Losses: {'ner': np.float32(9.877969)}\n",
      "Epoch 9 | Losses: {'ner': np.float32(19.08025)}\n",
      "Epoch 10 | Losses: {'ner': np.float32(10.53949)}\n",
      "Epoch 11 | Losses: {'ner': np.float32(18.473715)}\n",
      "Epoch 12 | Losses: {'ner': np.float32(16.872347)}\n",
      "Epoch 13 | Losses: {'ner': np.float32(23.177254)}\n",
      "Epoch 14 | Losses: {'ner': np.float32(22.565231)}\n",
      "Epoch 15 | Losses: {'ner': np.float32(26.460371)}\n",
      "Epoch 16 | Losses: {'ner': np.float32(31.286568)}\n",
      "Epoch 17 | Losses: {'ner': np.float32(48.802986)}\n",
      "Epoch 18 | Losses: {'ner': np.float32(17.153625)}\n",
      "Epoch 19 | Losses: {'ner': np.float32(3.335366)}\n",
      "Epoch 20 | Losses: {'ner': np.float32(7.4134073)}\n"
     ]
    }
   ],
   "source": [
    "from spacy.training.example import Example\n",
    "from spacy.util import minibatch\n",
    "from spacy.util import compounding\n",
    "import random\n",
    "\n",
    "# Train model\n",
    "other_pipes = [pipe for pipe in nlp.pipe_names if pipe not in (\"ner\")]\n",
    "with nlp.disable_pipes(*other_pipes):\n",
    "    optimizer = nlp.initialize(get_examples=lambda: examples)\n",
    "\n",
    "    n_iter = 20\n",
    "    for epoch in range(n_iter):\n",
    "        random.shuffle(examples)\n",
    "        losses = {}\n",
    "        batches = minibatch(examples, size=compounding(4.0, 32.0, 1.001))\n",
    "        for batch in batches:\n",
    "            nlp.update(batch, losses=losses)\n",
    "        print(f\"Epoch {epoch+1} | Losses: {losses}\")"
   ]
  },
  {
   "cell_type": "code",
   "execution_count": 10,
   "id": "78f04a96",
   "metadata": {},
   "outputs": [
    {
     "name": "stdout",
     "output_type": "stream",
     "text": [
      "Model saved to ./football_ner_model\n"
     ]
    }
   ],
   "source": [
    "import os\n",
    "\n",
    "output_dir = \"./football_ner_model\"\n",
    "nlp.to_disk(output_dir)\n",
    "print(f\"Model saved to {output_dir}\")"
   ]
  },
  {
   "cell_type": "code",
   "execution_count": 11,
   "id": "5d168aef",
   "metadata": {},
   "outputs": [
    {
     "name": "stdout",
     "output_type": "stream",
     "text": [
      "\n",
      "Text: Jude Bellingham joins Liverpool from Borussia Dortmund for £60 million.\n",
      " - Jude Bellingham (PLAYER_NAME)\n",
      " - Liverpool (TO_CLUB)\n",
      " - Borussia Dortmund (FROM_CLUB)\n",
      " - £60 million (TRANSFER_FEE)\n",
      "\n",
      "Text: Chelsea complete the signing of Mason Mount from Manchester United on a loan deal.\n",
      " - Chelsea (TO_CLUB)\n",
      " - Mason Mount (PLAYER_NAME)\n",
      " - Manchester United (FROM_CLUB)\n",
      " - loan (TRANSFER_TYPE)\n",
      "\n",
      "Text: Barcelona announce the signing of João Félix on a permanent transfer.\n",
      " - Barcelona (TO_CLUB)\n",
      " - João Félix (PLAYER_NAME)\n",
      " - permanent transfer (TRANSFER_TYPE)\n",
      "\n",
      "Text: Harrogate Town have signed Huddersfield Town defender Eko Solomon on loan until the end of the season.\n",
      " - Harrogate Town (TO_CLUB)\n",
      " - Huddersfield Town (FROM_CLUB)\n",
      " - Eko Solomon (PLAYER_NAME)\n",
      " - loan (TRANSFER_TYPE)\n",
      "\n",
      "Text: Bradford City have signed midfielder Tommy Leigh from MK Dons for an undisclosed fee on a two-and-a-half-year deal\n",
      " - Bradford City (TO_CLUB)\n",
      " - Tommy Leigh (PLAYER_NAME)\n",
      " - MK Dons (FROM_CLUB)\n",
      " - undisclosed (TRANSFER_FEE)\n",
      "\n",
      "Text: Aston Villa have announced the signing of forward Donyell Malen from Borussia Dortmund\n",
      " - Aston Villa (TO_CLUB)\n",
      " - Donyell Malen (PLAYER_NAME)\n",
      " - Borussia Dortmund (FROM_CLUB)\n"
     ]
    }
   ],
   "source": [
    "import spacy\n",
    "\n",
    "# Load the saved model\n",
    "nlp = spacy.load(\"./football_ner_model\")\n",
    "\n",
    "# Test examples\n",
    "test_texts = [\n",
    "    \"Jude Bellingham joins Liverpool from Borussia Dortmund for £60 million.\",\n",
    "    \"Chelsea complete the signing of Mason Mount from Manchester United on a loan deal.\",\n",
    "    \"Barcelona announce the signing of João Félix on a permanent transfer.\",\n",
    "    \"Harrogate Town have signed Huddersfield Town defender Eko Solomon on loan until the end of the season.\",\n",
    "    \"Bradford City have signed midfielder Tommy Leigh from MK Dons for an undisclosed fee on a two-and-a-half-year deal\",\n",
    "    \"Aston Villa have announced the signing of forward Donyell Malen from Borussia Dortmund\"\n",
    "]\n",
    "\n",
    "# Run the model on each test sentence\n",
    "for text in test_texts:\n",
    "    doc = nlp(text)\n",
    "    print(f\"\\nText: {text}\")\n",
    "    for ent in doc.ents:\n",
    "        print(f\" - {ent.text} ({ent.label_})\")"
   ]
  }
 ],
 "metadata": {
  "kernelspec": {
   "display_name": "Python 3",
   "language": "python",
   "name": "python3"
  },
  "language_info": {
   "codemirror_mode": {
    "name": "ipython",
    "version": 3
   },
   "file_extension": ".py",
   "mimetype": "text/x-python",
   "name": "python",
   "nbconvert_exporter": "python",
   "pygments_lexer": "ipython3",
   "version": "3.11.3"
  }
 },
 "nbformat": 4,
 "nbformat_minor": 5
}
